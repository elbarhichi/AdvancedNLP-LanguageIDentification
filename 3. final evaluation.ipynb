{
 "cells": [
  {
   "cell_type": "code",
   "execution_count": null,
   "metadata": {},
   "outputs": [],
   "source": [
    "import pandas as pd\n",
    "import csv\n",
    "from collections import Counter"
   ]
  },
  {
   "cell_type": "markdown",
   "metadata": {},
   "source": [
    "In this notebook we combine different models to obtain the best performance.\n",
    "\n",
    "To do so, we first load each model's predictions."
   ]
  },
  {
   "cell_type": "code",
   "execution_count": null,
   "metadata": {},
   "outputs": [],
   "source": [
    "fasttext = pd.read_csv('predictions/predictions_fasttext_7946.csv')\n",
    "\n",
    "mdeberta = pd.read_csv('predictions/predictions_mdebertav3base_86293.csv')\n",
    "\n",
    "rembert   = pd.read_csv('predictions/predictions_rembert_87445.csv')\n",
    "\n",
    "rembert2 = pd.read_csv('predictions/predictions_rembert_8683.csv')\n",
    "\n",
    "xlmroberta = pd.read_csv('predictions/predictions_xlmlast2_87101.csv')\n",
    "\n",
    "bertmulti  = pd.read_csv('predictions/predictions_bertmulti_8656.csv')\n",
    "\n",
    "bert = pd.read_csv('predictions/predictions_bert_8267.csv')\n",
    "\n",
    "# xlmroberta = pd.read_csv('predictions/predictions_xlmroberta_8647.csv')\n",
    "# tfidf = pd.read_csv('predictions/predictions_tf_lg_7432.csv')\n",
    "# tfidf2 = pd.read_csv('predictions/predictions_tf_sgc_73898.csv')\n",
    "# mt5 = pd.read_csv('predictions/predictions_mt5_7931.csv')"
   ]
  },
  {
   "cell_type": "code",
   "execution_count": null,
   "metadata": {},
   "outputs": [],
   "source": [
    "df_ensemble = pd.DataFrame()\n",
    "df_ensemble['ID'] = rembert['ID']\n",
    "df_ensemble['mdeberta'] = mdeberta['Label']\n",
    "df_ensemble['rembert'] = rembert['Label']\n",
    "df_ensemble['xlmroberta'] = xlmroberta['Label']\n",
    "df_ensemble['bertmulti'] = bertmulti['Label']\n",
    "df_ensemble['bert'] = bert['Label']\n",
    "df_ensemble['fasttext'] = fasttext['Label']\n",
    "df_ensemble['rembert2'] = rembert2['Label']\n",
    "# df_ensemble['mt5'] = mt5['Label']\n",
    "# df_ensemble['tfidf'] = tfidf['Label']"
   ]
  },
  {
   "cell_type": "markdown",
   "metadata": {},
   "source": [
    "On implémente la fonction de vote de la méthode d'ensemble learning."
   ]
  },
  {
   "cell_type": "code",
   "execution_count": null,
   "metadata": {},
   "outputs": [],
   "source": [
    "def vote(row):\n",
    "\n",
    "    votes = [row['mdeberta'], row['rembert'], row['xlmroberta'], row['bertmulti'], row['bert'], row['rembert2'], row['fasttext']]\n",
    "    compteur = Counter(votes)\n",
    "    max_votes = max(compteur.values())\n",
    "    # find labels with max number of votes\n",
    "    labels_max = [label for label, count in compteur.items() if count == max_votes]\n",
    "    \n",
    "    # If there is a majoritary label, we return it\n",
    "    if len(labels_max) == 1:\n",
    "        return labels_max[0]\n",
    "    else:\n",
    "        # In case of equality we return the label of RemBERT\n",
    "        if row['rembert'] in labels_max:\n",
    "            return row['rembert']\n",
    "        elif row['xlmroberta'] in labels_max:\n",
    "            return row['xlmroberta']\n",
    "        elif row['rembert2'] in labels_max:\n",
    "            return row['rembert2']\n",
    "        elif row['bertmulti'] in labels_max:\n",
    "            return row['bertmulti']\n",
    "        elif row['mdeberta'] in labels_max:\n",
    "            return row['mdeberta']\n",
    "        else:\n",
    "            return labels_max[0]\n",
    "\n",
    "# The priorisation order is the following: RemBERT then xlmroberta then rembert2 then bertmulti then mdeberta"
   ]
  },
  {
   "cell_type": "code",
   "execution_count": null,
   "metadata": {},
   "outputs": [],
   "source": [
    "df_ensemble['Final_Label'] = df_ensemble.apply(vote, axis=1)\n",
    "\n",
    "submission = df_ensemble[['ID', 'Final_Label']].rename(columns={'Final_Label': 'Label'})\n",
    "\n",
    "submission.to_csv('predictions/final_submission.csv', index=False)"
   ]
  }
 ],
 "metadata": {
  "kernelspec": {
   "display_name": "py312",
   "language": "python",
   "name": "python3"
  },
  "language_info": {
   "codemirror_mode": {
    "name": "ipython",
    "version": 3
   },
   "file_extension": ".py",
   "mimetype": "text/x-python",
   "name": "python",
   "nbconvert_exporter": "python",
   "pygments_lexer": "ipython3",
   "version": "3.12.9"
  }
 },
 "nbformat": 4,
 "nbformat_minor": 2
}
