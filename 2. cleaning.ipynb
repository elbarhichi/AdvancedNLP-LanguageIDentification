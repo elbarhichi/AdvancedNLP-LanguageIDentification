{
 "cells": [
  {
   "cell_type": "markdown",
   "metadata": {},
   "source": [
    "Nous allons ici produire la data du test cleaned que nous allons utilisé pour quelques modèles"
   ]
  },
  {
   "cell_type": "code",
   "execution_count": 1,
   "metadata": {},
   "outputs": [
    {
     "name": "stdout",
     "output_type": "stream",
     "text": [
      "Text     0\n",
      "Label    0\n",
      "dtype: int64\n",
      "                                                Text Label\n",
      "0  َ قَالَ النَّبِيُّ ص إِنِّي أَتَعَجَّبُ مِمَّن...   hau\n",
      "1  Filmen forteller historien om Will Hunting  en...   nob\n",
      "2  An Arthrostylidium berryi in uska species han ...   wln\n",
      "3  Kancunarí enemigosniyquichejta munacuychej  al...   quh\n",
      "4  Warmeqa ama yachachichunchu hermanospa tantaku...   quh\n"
     ]
    },
    {
     "data": {
      "text/html": [
       "<div>\n",
       "<style scoped>\n",
       "    .dataframe tbody tr th:only-of-type {\n",
       "        vertical-align: middle;\n",
       "    }\n",
       "\n",
       "    .dataframe tbody tr th {\n",
       "        vertical-align: top;\n",
       "    }\n",
       "\n",
       "    .dataframe thead th {\n",
       "        text-align: right;\n",
       "    }\n",
       "</style>\n",
       "<table border=\"1\" class=\"dataframe\">\n",
       "  <thead>\n",
       "    <tr style=\"text-align: right;\">\n",
       "      <th></th>\n",
       "      <th>Text</th>\n",
       "    </tr>\n",
       "  </thead>\n",
       "  <tbody>\n",
       "    <tr>\n",
       "      <th>0</th>\n",
       "      <td>قال النبي ص إني أتعجب ممن يضرب امرأته و هو بال...</td>\n",
       "    </tr>\n",
       "    <tr>\n",
       "      <th>1</th>\n",
       "      <td>filmen forteller historien om will hunting en ...</td>\n",
       "    </tr>\n",
       "    <tr>\n",
       "      <th>2</th>\n",
       "      <td>an arthrostylidium berryi in uska species han ...</td>\n",
       "    </tr>\n",
       "    <tr>\n",
       "      <th>3</th>\n",
       "      <td>kancunarí enemigosniyquichejta munacuychej all...</td>\n",
       "    </tr>\n",
       "    <tr>\n",
       "      <th>4</th>\n",
       "      <td>warmeqa ama yachachichunchu hermanospa tantaku...</td>\n",
       "    </tr>\n",
       "  </tbody>\n",
       "</table>\n",
       "</div>"
      ],
      "text/plain": [
       "                                                Text\n",
       "0  قال النبي ص إني أتعجب ممن يضرب امرأته و هو بال...\n",
       "1  filmen forteller historien om will hunting en ...\n",
       "2  an arthrostylidium berryi in uska species han ...\n",
       "3  kancunarí enemigosniyquichejta munacuychej all...\n",
       "4  warmeqa ama yachachichunchu hermanospa tantaku..."
      ]
     },
     "execution_count": 1,
     "metadata": {},
     "output_type": "execute_result"
    }
   ],
   "source": [
    "import pandas as pd\n",
    "import re\n",
    "import unicodedata\n",
    "\n",
    "# Charger le CSV (remplacez 'train_submission.csv' par le chemin réel)\n",
    "df = pd.read_csv('data/train_submission_preprocessed.csv')\n",
    "\n",
    "\n",
    "print(df.isnull().sum())\n",
    "\n",
    "# Afficher un aperçu\n",
    "print(df.head())\n",
    "\n",
    "def clean_text(text):\n",
    "    # Supprimer les URLs\n",
    "    text = re.sub(r'http\\S+', '', text)\n",
    "    # Supprimer les mentions (@user) et hashtags (#mot)\n",
    "    text = re.sub(r'[@#]\\w+', '', text)\n",
    "    # Normalisation Unicode (NFC)\n",
    "    text = unicodedata.normalize('NFC', text)\n",
    "    # Passage en minuscules\n",
    "    text = text.lower()\n",
    "    # Optionnel : supprimer la ponctuation (gardez à l'esprit que certains signes peuvent être utiles)\n",
    "    text = re.sub(r'[^\\w\\s]', '', text)\n",
    "    # Supprimer les espaces multiples\n",
    "    text = re.sub(r'\\s+', ' ', text).strip()\n",
    "    return text\n",
    "\n",
    "# Appliquer le nettoyage sur la colonne contenant le texte (par exemple 'text')\n",
    "df['Text'] = df['Text'].apply(clean_text)\n",
    "\n",
    "# Sauvegarder le CSV nettoyé \n",
    "df.to_csv('data/train_submission_cleaned.csv', index=False)\n",
    "\n",
    "# Afficher un aperçu des données nettoyées\n",
    "df[['Text']].head()\n"
   ]
  },
  {
   "cell_type": "code",
   "execution_count": 4,
   "metadata": {},
   "outputs": [
    {
     "data": {
      "text/html": [
       "<div>\n",
       "<style scoped>\n",
       "    .dataframe tbody tr th:only-of-type {\n",
       "        vertical-align: middle;\n",
       "    }\n",
       "\n",
       "    .dataframe tbody tr th {\n",
       "        vertical-align: top;\n",
       "    }\n",
       "\n",
       "    .dataframe thead th {\n",
       "        text-align: right;\n",
       "    }\n",
       "</style>\n",
       "<table border=\"1\" class=\"dataframe\">\n",
       "  <thead>\n",
       "    <tr style=\"text-align: right;\">\n",
       "      <th></th>\n",
       "      <th>Text</th>\n",
       "      <th>Label</th>\n",
       "    </tr>\n",
       "  </thead>\n",
       "  <tbody>\n",
       "    <tr>\n",
       "      <th>0</th>\n",
       "      <td>قال النبي ص إني أتعجب ممن يضرب امرأته و هو بال...</td>\n",
       "      <td>hau</td>\n",
       "    </tr>\n",
       "    <tr>\n",
       "      <th>1</th>\n",
       "      <td>filmen forteller historien om will hunting en ...</td>\n",
       "      <td>nob</td>\n",
       "    </tr>\n",
       "    <tr>\n",
       "      <th>2</th>\n",
       "      <td>an arthrostylidium berryi in uska species han ...</td>\n",
       "      <td>wln</td>\n",
       "    </tr>\n",
       "    <tr>\n",
       "      <th>3</th>\n",
       "      <td>kancunarí enemigosniyquichejta munacuychej all...</td>\n",
       "      <td>quh</td>\n",
       "    </tr>\n",
       "    <tr>\n",
       "      <th>4</th>\n",
       "      <td>warmeqa ama yachachichunchu hermanospa tantaku...</td>\n",
       "      <td>quh</td>\n",
       "    </tr>\n",
       "    <tr>\n",
       "      <th>...</th>\n",
       "      <td>...</td>\n",
       "      <td>...</td>\n",
       "    </tr>\n",
       "    <tr>\n",
       "      <th>189960</th>\n",
       "      <td>publié par masken à 2246 aucun commentaire</td>\n",
       "      <td>hat</td>\n",
       "    </tr>\n",
       "    <tr>\n",
       "      <th>189961</th>\n",
       "      <td>ειπεν δε προς τους μαθητας ελευσονται ημεραι ο...</td>\n",
       "      <td>grc</td>\n",
       "    </tr>\n",
       "    <tr>\n",
       "      <th>189962</th>\n",
       "      <td>ya bay boch banen ni kug rungaged ni ga be yog...</td>\n",
       "      <td>yap</td>\n",
       "    </tr>\n",
       "    <tr>\n",
       "      <th>189963</th>\n",
       "      <td>palimentase nun absuerben el sangre sinón que ...</td>\n",
       "      <td>ast</td>\n",
       "    </tr>\n",
       "    <tr>\n",
       "      <th>189964</th>\n",
       "      <td>digau ala e hai hegau donu hagalee tale gi nia...</td>\n",
       "      <td>kpg</td>\n",
       "    </tr>\n",
       "  </tbody>\n",
       "</table>\n",
       "<p>189965 rows × 2 columns</p>\n",
       "</div>"
      ],
      "text/plain": [
       "                                                     Text Label\n",
       "0       قال النبي ص إني أتعجب ممن يضرب امرأته و هو بال...   hau\n",
       "1       filmen forteller historien om will hunting en ...   nob\n",
       "2       an arthrostylidium berryi in uska species han ...   wln\n",
       "3       kancunarí enemigosniyquichejta munacuychej all...   quh\n",
       "4       warmeqa ama yachachichunchu hermanospa tantaku...   quh\n",
       "...                                                   ...   ...\n",
       "189960         publié par masken à 2246 aucun commentaire   hat\n",
       "189961  ειπεν δε προς τους μαθητας ελευσονται ημεραι ο...   grc\n",
       "189962  ya bay boch banen ni kug rungaged ni ga be yog...   yap\n",
       "189963  palimentase nun absuerben el sangre sinón que ...   ast\n",
       "189964  digau ala e hai hegau donu hagalee tale gi nia...   kpg\n",
       "\n",
       "[189965 rows x 2 columns]"
      ]
     },
     "execution_count": 4,
     "metadata": {},
     "output_type": "execute_result"
    }
   ],
   "source": [
    "df"
   ]
  },
  {
   "cell_type": "code",
   "execution_count": 5,
   "metadata": {},
   "outputs": [
    {
     "name": "stdout",
     "output_type": "stream",
     "text": [
      "Text     0\n",
      "Label    0\n",
      "dtype: int64\n"
     ]
    }
   ],
   "source": [
    "print(df.isnull().sum())"
   ]
  },
  {
   "cell_type": "code",
   "execution_count": null,
   "metadata": {},
   "outputs": [],
   "source": [
    "df_cleaned = pd.read_csv('data/train_submission_cleaned.csv')\n"
   ]
  }
 ],
 "metadata": {
  "kernelspec": {
   "display_name": "py312",
   "language": "python",
   "name": "python3"
  },
  "language_info": {
   "codemirror_mode": {
    "name": "ipython",
    "version": 3
   },
   "file_extension": ".py",
   "mimetype": "text/x-python",
   "name": "python",
   "nbconvert_exporter": "python",
   "pygments_lexer": "ipython3",
   "version": "3.12.9"
  }
 },
 "nbformat": 4,
 "nbformat_minor": 2
}
