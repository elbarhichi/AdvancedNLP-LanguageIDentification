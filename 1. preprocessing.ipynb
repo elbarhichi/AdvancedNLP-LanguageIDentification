{
 "cells": [
  {
   "cell_type": "code",
   "execution_count": null,
   "metadata": {},
   "outputs": [],
   "source": [
    "# Package Imports\n",
    "import pandas as pd\n",
    "import numpy as np\n",
    "import matplotlib.pyplot as plt\n",
    "import seaborn as sns\n",
    "import csv\n",
    "\n",
    "import io\n",
    "import tempfile\n",
    "from kaggle import api"
   ]
  },
  {
   "cell_type": "markdown",
   "metadata": {},
   "source": [
    "# Data Exploration & Preprocessing\n",
    "We start with the train dataset"
   ]
  },
  {
   "cell_type": "code",
   "execution_count": 31,
   "metadata": {},
   "outputs": [
    {
     "name": "stdout",
     "output_type": "stream",
     "text": [
      "Size of the dataset:  190599\n",
      "Number of labels:  390\n"
     ]
    },
    {
     "data": {
      "application/vnd.microsoft.datawrangler.viewer.v0+json": {
       "columns": [
        {
         "name": "index",
         "rawType": "int64",
         "type": "integer"
        },
        {
         "name": "Usage",
         "rawType": "object",
         "type": "string"
        },
        {
         "name": "Text",
         "rawType": "object",
         "type": "string"
        },
        {
         "name": "Label",
         "rawType": "object",
         "type": "string"
        }
       ],
       "conversionMethod": "pd.DataFrame",
       "ref": "0f2dc8c4-d2cd-4223-8606-4809e891128c",
       "rows": [
        [
         "0",
         "Public",
         "َ قَالَ النَّبِيُّ ص إِنِّي أَتَعَجَّبُ مِمَّنْ يَضْرِبُ امْرَأَتَهُ وَ هُوَ بِالضَّرْبِ أَوْلَى مِنْهَا لَا تَضْرِبُوا نِسَاءَكُمْ بِالْخَشَبِ فَإِنَّ فِيهِ الْقِصَاصَ وَ لَكِنِ اضْرِبُوهُنَّ بِالْجُوعِ وَ الْعُرْيِ حَتَّى تُرِيحُوا [تَرْبَحُوا] فِي الدُّنْيَا وَ الْآخِرَةِ وَ أَيُّمَا رَجُلٍ تَتَزَيَّنُ امْرَأَتُهُ وَ تَخْرُجُ مِنْ بَابِ دَارِهَا فَهُوَ دَيُّوثٌ وَ لَا يَأْثَمُ مَنْ يُسَمِّيهِ دَيُّوثاً وَ الْمَرْأَةُ إِذَا خَرَجَتْ مِنْ بَابِ دَارِهَا مُتَزَيِّنَةً مُتَعَطِّرَةً وَ الزَّوْجُ بِذَلِكَ رَاضٍ يُبْنَى لِزَوْجِهَا بِكُلِّ قَدَمٍ بَيْتٌ فِي النَّارِ فَقَصِّرُوا أَجْنِحَةَ نِسَائِكُمْ وَ لَا تُطَوِّلُوهَا فَإِنَّ فِي تَقْصِيرِ أَجْنِحَتِهَا رِضًى وَ سُرُوراً وَ دُخُولَ الْجَنَّةِ بِغَيْرِ حِسَابٍ احْفَظُوا وَصِيَّتِي فِي أَمْرِ نِسَائِكُمْ حَتَّى تَنْجُوا مِنْ شِدَّةِ الْحِسَابِ وَ مَنْ لَمْ يَحْفَظْ وَصِيَّتِي فَمَا أَسْوَأَ حَالَهُ بَيْنَ يَدَيِ اللَّهِ وَ قَالَ ع النِّسَاءُ حَبَائِلُ الشَّيْطَان",
         "hau"
        ],
        [
         "1",
         "Public",
         "Filmen forteller historien om Will Hunting  en problemrik men talentfull ung mann som arbeider som vaktmester på Massachusetts Institute of Technology  selv om han har kunnskaper innen matematikk som er langt større enn de hos studentene ved skolen.",
         "nob"
        ],
        [
         "2",
         "Public",
         "An Arthrostylidium berryi in uska species han Liliopsida nga ginhulagway ni Emmet J.",
         "wln"
        ],
        [
         "3",
         "Public",
         "Kancunarí enemigosniyquichejta munacuychej  allin cajtapuni ruwaychej. Ayniychejtaj runasman ni imata jap'iyta suyaspa. Cayta ruwajtiyquichej Dios ashqhata kopusonkachej. C'ata Diospa wawasnintaj canquichej. Payka c'acha qhuyacuyniyojmin cashan mana graciasta kojcunamanpis sajra runasmanpis.",
         "quh"
        ],
        [
         "4",
         "Public",
         "Warmeqa ama yachachichunchu hermanospa tantakuyninkupi nitaj qharita kamachichunchu   manachayqa llamp'u sonqolla mana ch'ajwaspa kanan .",
         "quh"
        ]
       ],
       "shape": {
        "columns": 3,
        "rows": 5
       }
      },
      "text/html": [
       "<div>\n",
       "<style scoped>\n",
       "    .dataframe tbody tr th:only-of-type {\n",
       "        vertical-align: middle;\n",
       "    }\n",
       "\n",
       "    .dataframe tbody tr th {\n",
       "        vertical-align: top;\n",
       "    }\n",
       "\n",
       "    .dataframe thead th {\n",
       "        text-align: right;\n",
       "    }\n",
       "</style>\n",
       "<table border=\"1\" class=\"dataframe\">\n",
       "  <thead>\n",
       "    <tr style=\"text-align: right;\">\n",
       "      <th></th>\n",
       "      <th>Usage</th>\n",
       "      <th>Text</th>\n",
       "      <th>Label</th>\n",
       "    </tr>\n",
       "  </thead>\n",
       "  <tbody>\n",
       "    <tr>\n",
       "      <th>0</th>\n",
       "      <td>Public</td>\n",
       "      <td>َ قَالَ النَّبِيُّ ص إِنِّي أَتَعَجَّبُ مِمَّن...</td>\n",
       "      <td>hau</td>\n",
       "    </tr>\n",
       "    <tr>\n",
       "      <th>1</th>\n",
       "      <td>Public</td>\n",
       "      <td>Filmen forteller historien om Will Hunting  en...</td>\n",
       "      <td>nob</td>\n",
       "    </tr>\n",
       "    <tr>\n",
       "      <th>2</th>\n",
       "      <td>Public</td>\n",
       "      <td>An Arthrostylidium berryi in uska species han ...</td>\n",
       "      <td>wln</td>\n",
       "    </tr>\n",
       "    <tr>\n",
       "      <th>3</th>\n",
       "      <td>Public</td>\n",
       "      <td>Kancunarí enemigosniyquichejta munacuychej  al...</td>\n",
       "      <td>quh</td>\n",
       "    </tr>\n",
       "    <tr>\n",
       "      <th>4</th>\n",
       "      <td>Public</td>\n",
       "      <td>Warmeqa ama yachachichunchu hermanospa tantaku...</td>\n",
       "      <td>quh</td>\n",
       "    </tr>\n",
       "  </tbody>\n",
       "</table>\n",
       "</div>"
      ],
      "text/plain": [
       "    Usage                                               Text Label\n",
       "0  Public  َ قَالَ النَّبِيُّ ص إِنِّي أَتَعَجَّبُ مِمَّن...   hau\n",
       "1  Public  Filmen forteller historien om Will Hunting  en...   nob\n",
       "2  Public  An Arthrostylidium berryi in uska species han ...   wln\n",
       "3  Public  Kancunarí enemigosniyquichejta munacuychej  al...   quh\n",
       "4  Public  Warmeqa ama yachachichunchu hermanospa tantaku...   quh"
      ]
     },
     "execution_count": 31,
     "metadata": {},
     "output_type": "execute_result"
    }
   ],
   "source": [
    "df = pd.read_csv('data/train_submission.csv')\n",
    "print(\"Size of the dataset: \", len(df))\n",
    "print(\"Number of labels: \", df['Label'].nunique() +1)\n",
    "df.head()"
   ]
  },
  {
   "cell_type": "markdown",
   "metadata": {},
   "source": [
    "The dataset contains 190599 instances and 390 labels.\n",
    "\n",
    "Let's now have a look on the distribution of the labels in the dataset."
   ]
  },
  {
   "cell_type": "code",
   "execution_count": 32,
   "metadata": {},
   "outputs": [
    {
     "data": {
      "image/png": "[encoded data removed]",
      "text/plain": [
       "<Figure size 500x300 with 1 Axes>"
      ]
     },
     "metadata": {},
     "output_type": "display_data"
    }
   ],
   "source": [
    "plt.figure(figsize=(5, 3))\n",
    "plt.hist(df['Label'].value_counts(), bins=50, color='skyblue')\n",
    "plt.yscale('log')\n",
    "plt.xlabel('Number of Samples per Label')\n",
    "plt.ylabel('Frequency (log scale)')\n",
    "plt.title('Distribution of Label Frequencies (Log-Scaled)')\n",
    "plt.show()\n"
   ]
  },
  {
   "cell_type": "markdown",
   "metadata": {},
   "source": [
    "The dataset is highly imbalanced.\n",
    "\n",
    "To better understand its distribution, we can take a closer look at the class frequencies, to identify both the most and least represented categories. Given that there are 389 classes in total, we visualize the distribution of the 30 most frequent and 30 least frequent classes."
   ]
  },
  {
   "cell_type": "code",
   "execution_count": 33,
   "metadata": {},
   "outputs": [
    {
     "data": {
      "image/png": "[encoded data removed]",
      "text/plain": [
       "<Figure size 1400x500 with 2 Axes>"
      ]
     },
     "metadata": {},
     "output_type": "display_data"
    }
   ],
   "source": [
    "fig, axes = plt.subplots(1, 2, figsize=(14, 5))  \n",
    "\n",
    "# Plot the top 30 labels \n",
    "df['Label'].value_counts().head(30).plot(kind='bar', ax=axes[0], color='skyblue')\n",
    "axes[0].set_title('Top 30 Most Frequent Labels')\n",
    "axes[0].set_ylabel('Count')\n",
    "axes[0].set_xticklabels(axes[0].get_xticklabels(), rotation=90)\n",
    "\n",
    "# Plot the bottom 30 labels \n",
    "df['Label'].value_counts().tail(30).plot(kind='bar', ax=axes[1], color='salmon')\n",
    "axes[1].set_title('Bottom 30 Least Frequent Labels')\n",
    "axes[1].set_ylabel('Count')\n",
    "axes[1].set_xticklabels(axes[1].get_xticklabels(), rotation=90)\n",
    "\n",
    "plt.tight_layout()\n",
    "plt.show()\n"
   ]
  },
  {
   "cell_type": "markdown",
   "metadata": {},
   "source": [
    "To better investigate this dataset, we drop the usage column as well as duplicated instances. We also look for potential missing labels."
   ]
  },
  {
   "cell_type": "code",
   "execution_count": 34,
   "metadata": {},
   "outputs": [
    {
     "data": {
      "application/vnd.microsoft.datawrangler.viewer.v0+json": {
       "columns": [
        {
         "name": "index",
         "rawType": "int64",
         "type": "integer"
        },
        {
         "name": "Text",
         "rawType": "object",
         "type": "string"
        },
        {
         "name": "Label",
         "rawType": "object",
         "type": "unknown"
        }
       ],
       "conversionMethod": "pd.DataFrame",
       "ref": "2ce7e8a3-98f3-4d80-bcb6-e02eff0304a7",
       "rows": [
        [
         "107",
         "Kòe bô jōa kú  hō͘-sū sió-chiá lâi kā góan mn̄g chi̍t-kóa būn-tê  koh thè Bí-hông thiam sán-hū tòa-īⁿ ê ki-pún chu-liāu  lō͘-bóe mn̄g góa kám ū beh “li̍p-hōe”?",
         null
        ],
        [
         "803",
         "Söğütçük sī chi̍t ê tī Türkiye Aydın séng Çine koān ê chng-thâu.",
         null
        ],
        [
         "1095",
         "Golden Valley Kūn ū khó-lêng sī kóng:",
         null
        ],
        [
         "1894",
         "Tī Montégut-Lauragais ê sì-ûi ū Nogaret  Revel  Roumens  Saint-Félix-Lauragais  kap Saint-Julia téng siâⁿ-chhī he̍k-chiá chng-siā.",
         null
        ],
        [
         "2499",
         "Soveria Simeri ùi séng lāi ê hoān-ûi.",
         null
        ],
        [
         "2854",
         "Koussiri sī Burkina Faso ê chi̍t ê tē-hng chū-tī-thé.",
         null
        ],
        [
         "3424",
         "Ông-hui ìn-kóng: “Ò͘  ū kàu kan-khó͘  kui àm lóng khùn bē-lo̍h-bîn!",
         null
        ],
        [
         "3496",
         "Orbagna sī ūi-tī Hoat-kok Franche-Comté toā-khu Jura séng ê chi̍t ê commune.",
         null
        ],
        [
         "3501",
         "Marianka sī chi̍t ê tī Pho-lân Kiōng-hô-kok Masovia Séng Mińsk Kūn Mińsk Mazowiecki Kong-siā ê chng-thâu.",
         null
        ],
        [
         "3508",
         "Chit phiⁿ bûn-chiuⁿ kài-siāu 1979 nî thong-sè-kài ê iá-kiû hoat-tián; kî-tiong mā pau-hâm chōe-chōe tiōng-iàu ê iá-kiû siong-koan sū-kiāⁿ.",
         null
        ],
        [
         "3691",
         "Widniówka sī chi̍t ê tī Pho-lân Kiōng-hô-kok Lublin Séng Krasnystaw Kūn Krasnystaw Kong-siā ê chng-thâu.",
         null
        ],
        [
         "4948",
         "Marquigny sī ūi-tī Hoat-kok Champagne-Ardenne toā-khu Ardennes koān ê chi̍t ê commune.",
         null
        ],
        [
         "6007",
         "El Paso Kūn (Eng-gí: El Paso County) sī Bí-kok Texas chiu ê kūn (county)  ū jîn-kháu 827718.",
         null
        ],
        [
         "6601",
         "Estakhr-e Posht (Pho-su-gí: ) sī chi̍t ê tī Iran Islam Kiōng-hô-kok Mazandaran Séng Neka Kūn Hezarjarib Koān Estakhr-e Posht Hiong ê chng-thâu. Tī 2006 nî phó͘-cha ê sî-chūn  chit-ê chng-thâu ū  ê lâng tòa  chóng-kiōng ū  hō͘ jîn-ke.",
         null
        ],
        [
         "6796",
         "11 goe̍h 22 ji̍t: André Gide  Hoat-kok siáu-soat-ka.",
         null
        ],
        [
         "6942",
         "Kahnak (Pho-su-gí: ) sī chi̍t ê tī Iran Islam Kiōng-hô-kok Sistan kap Baluchestan Séng Khash Kūn Nukabad Koān Eskelabad Hiong ê chng-thâu. Tī 2006 nî phó͘-cha ê sî-chūn  chit-ê chng-thâu ū  ê lâng tòa  chóng-kiōng ū  hō͘ jîn-ke.",
         null
        ],
        [
         "6972",
         "Anhelivka (Ukraina-gí: ) sī chi̍t ê tī Ukraina Kiōng-hô-kok Ivano-Frankivsk Chiu Dolyna Koān ê chng-thâu (selo).",
         null
        ],
        [
         "7821",
         "Radost Bokel () sī chi̍t-ūi Tek-kok ê cha-bó͘ ián-goân.",
         null
        ],
        [
         "8419",
         "Tī pún kūn-koān sì-ûi ê hêng-chèng-khu ū McIntosh Kūn  Atoka Kūn  Haskell Kūn  Latimer Kūn  Pushmataha Kūn  Coal Kūn  Hughes Kūn.",
         null
        ],
        [
         "8627",
         "Eslamabad (Pho-su-gí: ) sī chi̍t ê tī Iran Islam Kiōng-hô-kok Golestan Séng Maraveh Tappeh Kūn Golidagh Koān Golidagh Hiong ê chng-thâu. Tī 2006 nî phó͘-cha ê sî-chūn  chit-ê chng-thâu ū  ê lâng tòa  chóng-kiōng ū  hō͘ jîn-ke.",
         null
        ],
        [
         "9123",
         "Tiong-kok Tông-chú-kun Sui-jiân Tiong-kok Tông-chú-kun ê bāng-chām miâ-chò Tiong-hôa bîn-kok ê Tông-kun Ūn-tōng  m̄-koh he m̄-sī chèng-khak iā m̄-sī chèng-sek ê miâ-chheng.",
         null
        ],
        [
         "9607",
         "Āu-lâi in-ūi goân-chū-bîn ê kong-kek  1541 nî chit-ê siâⁿ hông hòe-khì. Kàu 1580 nî ê sî Juan de Garay chiah koh kiàn-li̍p khí sin siâⁿ. I kā chia hō chi̍t-ê chhiok-hō \"Santísima Trinidad\"; káng-kháu chheng chò \"Puerto de Santa María de los Buenos Aires\".",
         null
        ],
        [
         "9784",
         "Tī Onnaing ê sì-ûi ū Fresnes-sur-Escaut  Saint-Saulve  Vicq  Bruay-sur-l'Escaut  Escautpont  Estreux  Quarouble  kap Rombies-et-Marchipont téng siâⁿ-chhī he̍k-chiá chng-siā.",
         null
        ],
        [
         "9966",
         "Lí chit pái tek-khak chin hoaⁿ-hí  in-ūi góa thiaⁿ-kìⁿ lâng kóng lí chit-pái ê han-chû sī tē-it hó  siu-sêng chin-chōe.\"",
         null
        ],
        [
         "10326",
         "Só͘-í lán eng-kai tio̍h chòe ê  chiū-sī tio̍h tāi-seng khì chòe  jiân-āu sè-jī khòaⁿ Siōng-tè ê kang-chok.",
         null
        ],
        [
         "11111",
         "Emamzadeh Abbas (Pho-su-gí: ) sī chi̍t ê tī Iran Islam Kiōng-hô-kok Mazandaran Séng Babol Kūn Bandpey-ye Sharqi Koān Sajjadrud Hiong ê chng-thâu. Tī 2006 nî phó͘-cha ê sî-chūn  chit-ê chng-thâu ū  ê lâng tòa  chóng-kiōng ū  hō͘ jîn-ke.",
         null
        ],
        [
         "11121",
         "Eslamabad (Pho-su-gí: ) sī chi̍t ê tī Iran Islam Kiōng-hô-kok Tang Azerbaijan Séng Charuymaq Kūn Tiong-iong Koān Charuymaq-e Jonubegharbi Hiong ê chng-thâu. Tī 2006 nî phó͘-cha ê sî-chūn  chit-ê chng-thâu ū  ê lâng tòa  chóng-kiōng ū  hō͘ jîn-ke.",
         null
        ],
        [
         "12031",
         "Ficulle ùi séng lāi ê hoān-ûi.",
         null
        ],
        [
         "12347",
         "Ē-chhit-tiuⁿ-lê (下七張犁) sī Tâi-oân Tâi-tiong-chhī Sai-tūn-khu (西屯區) ē-té ê tē-hng  só͘-chāi tī Tâi-tiong chhī-khu sai-pak-pêng.",
         null
        ],
        [
         "12775",
         "Kahdunki-ye Mushemi (Pho-su-gí: ) sī chi̍t ê tī Iran Islam Kiōng-hô-kok Kohgiluyeh kap Boyer-Ahmad Séng Boyer-Ahmad Kūn Margown Koān Zilayi Hiong ê chng-thâu. Tī 2006 nî phó͘-cha ê sî-chūn  chit-ê chng-thâu ū  ê lâng tòa  chóng-kiōng ū  hō͘ jîn-ke.",
         null
        ],
        [
         "13995",
         "Ha̍k-seng kóng  I mē góan án-ni  i iā ū m̄-tio̍h; góan khì jiáng--i  góan iā ū m̄-tio̍h; thah-suh (+) koh hih-khu  (-) kiat-kio̍k bô su-iâⁿ.",
         null
        ],
        [
         "14169",
         "Louisiana Kong-lō͘ 3115 (Eng-bûn: ; LA 3115) sī chi̍t-tiâu tī Bí-kok Louisiana ê chiu-kip kong-lō͘.",
         null
        ],
        [
         "14171",
         "B: Hò͘ⁿ  Góa khòaⁿ lín thong-ji̍t lóng chhēng súi-súi  khì lé-pài-tn̂g  koh the̍h tōa-pau sè-pau ê mi̍h hō͘ lâng.",
         null
        ],
        [
         "14268",
         "Užusienis II sī chi̍t ê tī Lietuva Kiōng-hô-kok Panevėžys Kūn Pasvalys Koān Krinčinas Tiúⁿ-ló-khu ê chng-thâu. Chit-ê chng-thâu tī 2011 nî ê sî-chūn bô lâng tòa.",
         null
        ],
        [
         "14302",
         "Chit ūi tī 2010 nî ê jîn-kháu-sò͘ sī 2 241 lâng.",
         null
        ],
        [
         "14391",
         "Bolymotikha (Lō͘-se-a-gí: ) sī chi̍t ê tī Lō͘-se-a Liân-pang Vladimir Chiu Vyaznikovsky Koān ê chng-kha só͘-chāi (chng-thâu).",
         null
        ],
        [
         "14477",
         "Bartholomew Kūn (Eng-gí: Bartholomew County) sī Bí-kok Indiana chiu ê kūn (county)  ū jîn-kháu 79587.",
         null
        ],
        [
         "16024",
         "Blizhneye Chesnochnoye (Lō͘-se-a-gí: ) sī chi̍t ê tī Lō͘-se-a Liân-pang Belgorod Chiu Alexeyevsky Koān ê chng-kha só͘-chāi (selo). Tī 2010 nî phó͘-cha ê sî-chūn  chit-ê só͘-chāi ū  ê lâng tòa. Hia ū 4 tiâu ke-á-lō͘.",
         null
        ],
        [
         "16565",
         "Ko͘-put-chiong the̍h hō͘ i khòaⁿ  āu--lâi sòa tek-khak beh kā i chioh tńg khì  in-ūi bōe tit thang chioh i  chiū kā i sî  chóng--sī i chin bô hoaⁿ-hí chiū tńg-khì.",
         null
        ],
        [
         "17304",
         "Arab Kheyl (Pho-su-gí: ) sī chi̍t ê tī Iran Islam Kiōng-hô-kok Mazandaran Séng Sari Kūn Tiong-iong Koān Rudpey-ye Jonubi Hiong ê chng-thâu. Tī 2006 nî phó͘-cha ê sî-chūn  chit-ê chng-thâu ū  ê lâng tòa  chóng-kiōng ū  hō͘ jîn-ke.",
         null
        ],
        [
         "17306",
         "Plateliai Tiúⁿ-ló-khu (Lietuva-gí: ) sī Lietuva Kiōng-hô-kok Plungė Koān Chū-tī-thé ê chi̍t ê tiúⁿ-ló-khu ().",
         null
        ],
        [
         "19098",
         "Fox sī Bí-kok Alaska chiu Fairbanks North Star Borough Kūn (Alaska)|Fairbanks North Star Borough]] kūn]] ê chi̍t ê chng-thâu (CDP).",
         null
        ],
        [
         "19136",
         "Keng-kè chit-ê soaⁿ-kok  chiū kàu koh chi̍t-ê Soaⁿ-kok  miâ kiò Sí-ìm soaⁿ-kok  beh khì Thiⁿ-siâⁿ  lō͘ tio̍h tùi chia  só͘-í put-tek-put tio̍h-kè.",
         null
        ],
        [
         "19259",
         "Shagarakti-Shuriash (Chêng 13 sè-kí – Chêng 13 sè-kí) sī Pa-pí-lûn ê kok-ông.",
         null
        ],
        [
         "19357",
         "Cooperstown sī Bí-kok Pennsylvania chiu Venango kūn ê chi̍t ê chng-thâu (borough).",
         null
        ],
        [
         "19763",
         "Nabdogo sī Burkina Faso ê chi̍t ê tē-hng chū-tī-thé.",
         null
        ],
        [
         "20140",
         "“Kám-siā Chú  góan ū thiaⁿ-tio̍h lín tī hia ê kang-chok.”",
         null
        ],
        [
         "20255",
         "Nā beh hō͘ chúi kún  hóe tio̍h chiok  hiâⁿ kàu chúi ê sio ū chi̍t-pah-tō͘  chiah ē kún.",
         null
        ],
        [
         "22083",
         "Fontaine-Lavaganne sī ūi-tī Hoat-kok Picardie toā-khu Oise koān ê chi̍t ê commune.",
         null
        ],
        [
         "22188",
         "San Giovanni d'Asso ùi séng lāi ê hoān-ûi.",
         null
        ]
       ],
       "shape": {
        "columns": 2,
        "rows": 500
       }
      },
      "text/html": [
       "<div>\n",
       "<style scoped>\n",
       "    .dataframe tbody tr th:only-of-type {\n",
       "        vertical-align: middle;\n",
       "    }\n",
       "\n",
       "    .dataframe tbody tr th {\n",
       "        vertical-align: top;\n",
       "    }\n",
       "\n",
       "    .dataframe thead th {\n",
       "        text-align: right;\n",
       "    }\n",
       "</style>\n",
       "<table border=\"1\" class=\"dataframe\">\n",
       "  <thead>\n",
       "    <tr style=\"text-align: right;\">\n",
       "      <th></th>\n",
       "      <th>Text</th>\n",
       "      <th>Label</th>\n",
       "    </tr>\n",
       "  </thead>\n",
       "  <tbody>\n",
       "    <tr>\n",
       "      <th>107</th>\n",
       "      <td>Kòe bô jōa kú  hō͘-sū sió-chiá lâi kā góan mn̄...</td>\n",
       "      <td>NaN</td>\n",
       "    </tr>\n",
       "    <tr>\n",
       "      <th>803</th>\n",
       "      <td>Söğütçük sī chi̍t ê tī Türkiye Aydın séng Çine...</td>\n",
       "      <td>NaN</td>\n",
       "    </tr>\n",
       "    <tr>\n",
       "      <th>1095</th>\n",
       "      <td>Golden Valley Kūn ū khó-lêng sī kóng:</td>\n",
       "      <td>NaN</td>\n",
       "    </tr>\n",
       "    <tr>\n",
       "      <th>1894</th>\n",
       "      <td>Tī Montégut-Lauragais ê sì-ûi ū Nogaret  Revel...</td>\n",
       "      <td>NaN</td>\n",
       "    </tr>\n",
       "    <tr>\n",
       "      <th>2499</th>\n",
       "      <td>Soveria Simeri ùi séng lāi ê hoān-ûi.</td>\n",
       "      <td>NaN</td>\n",
       "    </tr>\n",
       "    <tr>\n",
       "      <th>...</th>\n",
       "      <td>...</td>\n",
       "      <td>...</td>\n",
       "    </tr>\n",
       "    <tr>\n",
       "      <th>189637</th>\n",
       "      <td>Bellebrune sī ūi-tī Hoat-kok Nord-Pas-de-Calai...</td>\n",
       "      <td>NaN</td>\n",
       "    </tr>\n",
       "    <tr>\n",
       "      <th>189946</th>\n",
       "      <td>Bô phah-sǹg  tī sin-le̍k 10 go̍eh 29 hō ē-po͘ ...</td>\n",
       "      <td>NaN</td>\n",
       "    </tr>\n",
       "    <tr>\n",
       "      <th>189959</th>\n",
       "      <td>Wiejki sī chi̍t ê tī Pho-lân Kiōng-hô-kok Podl...</td>\n",
       "      <td>NaN</td>\n",
       "    </tr>\n",
       "    <tr>\n",
       "      <th>190397</th>\n",
       "      <td>Tī pún só͘-chāi sì-ûi ê tē-hng ū Valy  Veselí ...</td>\n",
       "      <td>NaN</td>\n",
       "    </tr>\n",
       "    <tr>\n",
       "      <th>190493</th>\n",
       "      <td>Ojén sī tī Se-pan-gâ Andalucía siā-lí Málaga s...</td>\n",
       "      <td>NaN</td>\n",
       "    </tr>\n",
       "  </tbody>\n",
       "</table>\n",
       "<p>500 rows × 2 columns</p>\n",
       "</div>"
      ],
      "text/plain": [
       "                                                     Text Label\n",
       "107     Kòe bô jōa kú  hō͘-sū sió-chiá lâi kā góan mn̄...   NaN\n",
       "803     Söğütçük sī chi̍t ê tī Türkiye Aydın séng Çine...   NaN\n",
       "1095                Golden Valley Kūn ū khó-lêng sī kóng:   NaN\n",
       "1894    Tī Montégut-Lauragais ê sì-ûi ū Nogaret  Revel...   NaN\n",
       "2499                Soveria Simeri ùi séng lāi ê hoān-ûi.   NaN\n",
       "...                                                   ...   ...\n",
       "189637  Bellebrune sī ūi-tī Hoat-kok Nord-Pas-de-Calai...   NaN\n",
       "189946  Bô phah-sǹg  tī sin-le̍k 10 go̍eh 29 hō ē-po͘ ...   NaN\n",
       "189959  Wiejki sī chi̍t ê tī Pho-lân Kiōng-hô-kok Podl...   NaN\n",
       "190397  Tī pún só͘-chāi sì-ûi ê tē-hng ū Valy  Veselí ...   NaN\n",
       "190493  Ojén sī tī Se-pan-gâ Andalucía siā-lí Málaga s...   NaN\n",
       "\n",
       "[500 rows x 2 columns]"
      ]
     },
     "execution_count": 34,
     "metadata": {},
     "output_type": "execute_result"
    }
   ],
   "source": [
    "df = df.drop(columns=['Usage'])\n",
    "df = df.drop_duplicates()\n",
    "# rows with nan values in the label column\n",
    "df[df['Label'].isna()]"
   ]
  },
  {
   "cell_type": "markdown",
   "metadata": {},
   "source": [
    "These texts are possibly written in Min Nan Chinese, which has the language code \"nan\".\n",
    "\n",
    "As a result, their labels were mistakenly interpreted as NaN (null values).\n",
    "\n",
    "One approach to address this issue is to explicitly convert these labels into the string 'nan'. However, since the final model evaluation is conducted on Kaggle, and the method used to read the evaluation CSV file likely does not distinguish between NaN (null values) and 'nan' (string), it is preferable to exclude this class from the training process altogether."
   ]
  },
  {
   "cell_type": "code",
   "execution_count": 35,
   "metadata": {},
   "outputs": [],
   "source": [
    "# drop rows that have Nan values in label\n",
    "df = df.dropna(subset=['Label'])"
   ]
  },
  {
   "cell_type": "markdown",
   "metadata": {},
   "source": [
    "To have a better accuracy when training, and as the test and train datasets have the same distributions, we choose to delete the least frequent classes."
   ]
  },
  {
   "cell_type": "code",
   "execution_count": 36,
   "metadata": {},
   "outputs": [
    {
     "name": "stdout",
     "output_type": "stream",
     "text": [
      "Number of classes with more than 15 occurences:  (370,)\n",
      "Text     0\n",
      "Label    0\n",
      "dtype: int64\n"
     ]
    }
   ],
   "source": [
    "#see how many classes have more than 15 samples\n",
    "print(\"Number of classes with more than 15 occurences: \",df['Label'].value_counts()[df['Label'].value_counts()>15].shape)\n",
    "df = df.groupby('Label').filter(lambda x: len(x) > 15)\n",
    "print(df.isnull().sum())"
   ]
  },
  {
   "cell_type": "code",
   "execution_count": 37,
   "metadata": {},
   "outputs": [],
   "source": [
    "df.to_csv('data/train_submission_preprocessed.csv', index=False)"
   ]
  },
  {
   "cell_type": "markdown",
   "metadata": {},
   "source": [
    "Now let's preprocess quickly the test dataset to remove the column 'Usage'."
   ]
  },
  {
   "cell_type": "code",
   "execution_count": 38,
   "metadata": {},
   "outputs": [],
   "source": [
    "test = pd.read_csv('data/test_without_labels.csv')\n",
    "test = test.drop(columns=['Usage'])\n",
    "test.to_csv('data/test_without_labels_preprocessed.csv', index=False)"
   ]
  },
  {
   "cell_type": "markdown",
   "metadata": {},
   "source": [
    "# Anomalies in train dataset..."
   ]
  },
  {
   "cell_type": "markdown",
   "metadata": {},
   "source": [
    "At this step, we are sure that there are not duplicated in the train dataset instances however, the bellow cell shows some inconsistencies in the data. In fact, the same text is labeled differently in each time:"
   ]
  },
  {
   "cell_type": "code",
   "execution_count": 39,
   "metadata": {},
   "outputs": [
    {
     "data": {
      "application/vnd.microsoft.datawrangler.viewer.v0+json": {
       "columns": [
        {
         "name": "index",
         "rawType": "int64",
         "type": "integer"
        },
        {
         "name": "Text",
         "rawType": "object",
         "type": "string"
        },
        {
         "name": "Label",
         "rawType": "object",
         "type": "string"
        }
       ],
       "conversionMethod": "pd.DataFrame",
       "ref": "714fc22e-4080-4b93-86b1-5d44f0ef0852",
       "rows": [
        [
         "178069",
         "Da Ort hod bei da Voikszejung 94",
         "mwl"
        ],
        [
         "141957",
         "Da Ort hod bei da Voikszejung 94",
         "nso"
        ],
        [
         "64261",
         "Da Ort hod bei da Voikszejung 94",
         "hin"
        ]
       ],
       "shape": {
        "columns": 2,
        "rows": 3
       }
      },
      "text/html": [
       "<div>\n",
       "<style scoped>\n",
       "    .dataframe tbody tr th:only-of-type {\n",
       "        vertical-align: middle;\n",
       "    }\n",
       "\n",
       "    .dataframe tbody tr th {\n",
       "        vertical-align: top;\n",
       "    }\n",
       "\n",
       "    .dataframe thead th {\n",
       "        text-align: right;\n",
       "    }\n",
       "</style>\n",
       "<table border=\"1\" class=\"dataframe\">\n",
       "  <thead>\n",
       "    <tr style=\"text-align: right;\">\n",
       "      <th></th>\n",
       "      <th>Text</th>\n",
       "      <th>Label</th>\n",
       "    </tr>\n",
       "  </thead>\n",
       "  <tbody>\n",
       "    <tr>\n",
       "      <th>178069</th>\n",
       "      <td>Da Ort hod bei da Voikszejung 94</td>\n",
       "      <td>mwl</td>\n",
       "    </tr>\n",
       "    <tr>\n",
       "      <th>141957</th>\n",
       "      <td>Da Ort hod bei da Voikszejung 94</td>\n",
       "      <td>nso</td>\n",
       "    </tr>\n",
       "    <tr>\n",
       "      <th>64261</th>\n",
       "      <td>Da Ort hod bei da Voikszejung 94</td>\n",
       "      <td>hin</td>\n",
       "    </tr>\n",
       "  </tbody>\n",
       "</table>\n",
       "</div>"
      ],
      "text/plain": [
       "                                    Text Label\n",
       "178069  Da Ort hod bei da Voikszejung 94   mwl\n",
       "141957  Da Ort hod bei da Voikszejung 94   nso\n",
       "64261   Da Ort hod bei da Voikszejung 94   hin"
      ]
     },
     "execution_count": 39,
     "metadata": {},
     "output_type": "execute_result"
    }
   ],
   "source": [
    "# see the lines 178069, 141957 and 64261 in the df\n",
    "df.loc[[178069, 141957, 64261]]"
   ]
  },
  {
   "cell_type": "markdown",
   "metadata": {},
   "source": [
    "If we choose to keep only one instance of such anomalies, the number of rows will be reduced to 190561, down from 190599.\n",
    "\n",
    "However, there are additional cases where identical texts appear multiple times in the training data but are assigned different labels. Since we cannot determine the correct label in these instances, we opt to remove all occurrences of such duplicated texts to ensure label consistency and improve data quality."
   ]
  },
  {
   "cell_type": "code",
   "execution_count": 40,
   "metadata": {},
   "outputs": [],
   "source": [
    "df = df.drop_duplicates(subset='Text')"
   ]
  },
  {
   "cell_type": "markdown",
   "metadata": {},
   "source": [
    "Let's now further investigate the consistency of the train dataset."
   ]
  },
  {
   "cell_type": "code",
   "execution_count": null,
   "metadata": {},
   "outputs": [
    {
     "name": "stdout",
     "output_type": "stream",
     "text": [
      "1927 : Pour l'amour de Mike (For the Love of Mike) de Frank Capra : Mary\n",
      "Publié par Masken à 22:46 Aucun commentaire:\n"
     ]
    },
    {
     "data": {
      "text/html": [
       "<div>\n",
       "<style scoped>\n",
       "    .dataframe tbody tr th:only-of-type {\n",
       "        vertical-align: middle;\n",
       "    }\n",
       "\n",
       "    .dataframe tbody tr th {\n",
       "        vertical-align: top;\n",
       "    }\n",
       "\n",
       "    .dataframe thead th {\n",
       "        text-align: right;\n",
       "    }\n",
       "</style>\n",
       "<table border=\"1\" class=\"dataframe\">\n",
       "  <thead>\n",
       "    <tr style=\"text-align: right;\">\n",
       "      <th></th>\n",
       "      <th>Text</th>\n",
       "      <th>Label</th>\n",
       "    </tr>\n",
       "  </thead>\n",
       "  <tbody>\n",
       "    <tr>\n",
       "      <th>16</th>\n",
       "      <td>PIVX Swazi Lilangeni (SZL) 58.36709 L PIVX → SZL</td>\n",
       "      <td>hat</td>\n",
       "    </tr>\n",
       "    <tr>\n",
       "      <th>384</th>\n",
       "      <td>Harleigh  PA Harlem  PA Harleysville  PA Harmo...</td>\n",
       "      <td>hat</td>\n",
       "    </tr>\n",
       "    <tr>\n",
       "      <th>633</th>\n",
       "      <td>1927 : Pour l'amour de Mike (For the Love of M...</td>\n",
       "      <td>hat</td>\n",
       "    </tr>\n",
       "    <tr>\n",
       "      <th>822</th>\n",
       "      <td>mwen kwè mwen pale de sa deja lan yon lòt pòs ...</td>\n",
       "      <td>hat</td>\n",
       "    </tr>\n",
       "    <tr>\n",
       "      <th>828</th>\n",
       "      <td>MP G16 SLIM PISTOL GRIP - DARK...</td>\n",
       "      <td>hat</td>\n",
       "    </tr>\n",
       "    <tr>\n",
       "      <th>...</th>\n",
       "      <td>...</td>\n",
       "      <td>...</td>\n",
       "    </tr>\n",
       "    <tr>\n",
       "      <th>188508</th>\n",
       "      <td>nme ak Fazrul...tp sume mmber ak pnggil ak Jer...</td>\n",
       "      <td>hat</td>\n",
       "    </tr>\n",
       "    <tr>\n",
       "      <th>189243</th>\n",
       "      <td>Ansyen minis transpò Soluk te vizite TÜDEMSAŞ</td>\n",
       "      <td>hat</td>\n",
       "    </tr>\n",
       "    <tr>\n",
       "      <th>190506</th>\n",
       "      <td>Ki jan ou fè jwenn DA a Pentax 55-300 konpare ...</td>\n",
       "      <td>hat</td>\n",
       "    </tr>\n",
       "    <tr>\n",
       "      <th>190543</th>\n",
       "      <td>Plan jigo dwat Vole postal devan ak fèmti bout...</td>\n",
       "      <td>hat</td>\n",
       "    </tr>\n",
       "    <tr>\n",
       "      <th>190594</th>\n",
       "      <td>Publié par Masken à 22:46 Aucun commentaire:</td>\n",
       "      <td>hat</td>\n",
       "    </tr>\n",
       "  </tbody>\n",
       "</table>\n",
       "<p>500 rows × 2 columns</p>\n",
       "</div>"
      ],
      "text/plain": [
       "                                                     Text Label\n",
       "16       PIVX Swazi Lilangeni (SZL) 58.36709 L PIVX → SZL   hat\n",
       "384     Harleigh  PA Harlem  PA Harleysville  PA Harmo...   hat\n",
       "633     1927 : Pour l'amour de Mike (For the Love of M...   hat\n",
       "822     mwen kwè mwen pale de sa deja lan yon lòt pòs ...   hat\n",
       "828                     MP G16 SLIM PISTOL GRIP - DARK...   hat\n",
       "...                                                   ...   ...\n",
       "188508  nme ak Fazrul...tp sume mmber ak pnggil ak Jer...   hat\n",
       "189243      Ansyen minis transpò Soluk te vizite TÜDEMSAŞ   hat\n",
       "190506  Ki jan ou fè jwenn DA a Pentax 55-300 konpare ...   hat\n",
       "190543  Plan jigo dwat Vole postal devan ak fèmti bout...   hat\n",
       "190594       Publié par Masken à 22:46 Aucun commentaire:   hat\n",
       "\n",
       "[500 rows x 2 columns]"
      ]
     },
     "execution_count": 20,
     "metadata": {},
     "output_type": "execute_result"
    }
   ],
   "source": [
    "# see all 'hat' texts\n",
    "hat_df =df[df['Label'] == 'hat']\n",
    "print(hat_df.iloc[2]['Text'])\n",
    "print(hat_df.iloc[-1]['Text'])\n",
    "hat_df"
   ]
  },
  {
   "cell_type": "markdown",
   "metadata": {},
   "source": [
    "For the label 'hat', as well as many others, we found that the labeling was incorrect. Many texts, whose languages we can confidently identify, were misclassified.\n",
    "\n",
    "Despite these inaccuracies, we chose to continue working with the same dataset—even though it contains a significant number of mislabeled entries—because our goal is to maximize the test accuracy score. After extensive investigations and analyses, we observed that the test data follows a similar distribution and also contains mislabeled instances."
   ]
  },
  {
   "cell_type": "markdown",
   "metadata": {},
   "source": [
    "-----\n",
    "### Testing where Kaggle accepts 'nan' as a class label\n",
    "\n",
    "To do so we create a new dataframe that has the same line numbers as test and that has 2 columns: ID and Label, the id from 1 to 190567 and the labels are all 'nan'. We must make sure that the label column is of type String."
   ]
  },
  {
   "cell_type": "code",
   "execution_count": null,
   "metadata": {},
   "outputs": [
    {
     "data": {
      "text/html": [
       "<div>\n",
       "<style scoped>\n",
       "    .dataframe tbody tr th:only-of-type {\n",
       "        vertical-align: middle;\n",
       "    }\n",
       "\n",
       "    .dataframe tbody tr th {\n",
       "        vertical-align: top;\n",
       "    }\n",
       "\n",
       "    .dataframe thead th {\n",
       "        text-align: right;\n",
       "    }\n",
       "</style>\n",
       "<table border=\"1\" class=\"dataframe\">\n",
       "  <thead>\n",
       "    <tr style=\"text-align: right;\">\n",
       "      <th></th>\n",
       "      <th>ID</th>\n",
       "      <th>Label</th>\n",
       "    </tr>\n",
       "  </thead>\n",
       "  <tbody>\n",
       "    <tr>\n",
       "      <th>0</th>\n",
       "      <td>1</td>\n",
       "      <td>nan</td>\n",
       "    </tr>\n",
       "    <tr>\n",
       "      <th>1</th>\n",
       "      <td>2</td>\n",
       "      <td>nan</td>\n",
       "    </tr>\n",
       "    <tr>\n",
       "      <th>2</th>\n",
       "      <td>3</td>\n",
       "      <td>nan</td>\n",
       "    </tr>\n",
       "    <tr>\n",
       "      <th>3</th>\n",
       "      <td>4</td>\n",
       "      <td>nan</td>\n",
       "    </tr>\n",
       "    <tr>\n",
       "      <th>4</th>\n",
       "      <td>5</td>\n",
       "      <td>nan</td>\n",
       "    </tr>\n",
       "  </tbody>\n",
       "</table>\n",
       "</div>"
      ],
      "text/plain": [
       "   ID Label\n",
       "0   1   nan\n",
       "1   2   nan\n",
       "2   3   nan\n",
       "3   4   nan\n",
       "4   5   nan"
      ]
     },
     "execution_count": 9,
     "metadata": {},
     "output_type": "execute_result"
    }
   ],
   "source": [
    "n = 190567\n",
    "\n",
    "df3 = pd.DataFrame({\n",
    "    'ID': range(1, n+1),\n",
    "    'Label': ['nan'] * n\n",
    "})\n",
    "df3['Label'] = df3['Label'].astype(str)\n",
    "df3.to_csv('submission.csv', index=False, quoting=csv.QUOTE_ALL, na_rep=\"nan\")\n",
    "df3.head()"
   ]
  },
  {
   "cell_type": "code",
   "execution_count": null,
   "metadata": {},
   "outputs": [
    {
     "name": "stderr",
     "output_type": "stream",
     "text": [
      "100%|██████████| 1.89M/1.89M [00:01<00:00, 1.70MB/s]\n"
     ]
    },
    {
     "data": {
      "text/plain": [
       "Successfully submitted to NLP CS 2025"
      ]
     },
     "execution_count": 12,
     "metadata": {},
     "output_type": "execute_result"
    }
   ],
   "source": [
    "csv_buffer = io.StringIO()\n",
    "df3.to_csv(csv_buffer, index=False)\n",
    "\n",
    "with tempfile.NamedTemporaryFile(mode=\"w+\", suffix=\".csv\", delete=False) as tmp:\n",
    "    tmp.write(csv_buffer.getvalue())\n",
    "    tmp_path = tmp.name  \n",
    "\n",
    "# Submit the file using the Kaggle API\n",
    "api.competition_submit(file_name=tmp_path, message=\"Submission from Notebook\", competition=\"nlp-cs-2025\")"
   ]
  },
  {
   "cell_type": "markdown",
   "metadata": {},
   "source": [
    "It’s not working 🙁. So, let's continue working with the training data while excluding the 'nan' label from the Min Nan Chinese language."
   ]
  }
 ],
 "metadata": {
  "kernelspec": {
   "display_name": "Python 3",
   "language": "python",
   "name": "python3"
  },
  "language_info": {
   "codemirror_mode": {
    "name": "ipython",
    "version": 3
   },
   "file_extension": ".py",
   "mimetype": "text/x-python",
   "name": "python",
   "nbconvert_exporter": "python",
   "pygments_lexer": "ipython3",
   "version": "3.10.11"
  }
 },
 "nbformat": 4,
 "nbformat_minor": 2
}
